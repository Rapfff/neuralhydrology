{
 "cells": [
  {
   "cell_type": "code",
   "execution_count": null,
   "metadata": {},
   "outputs": [],
   "source": [
    "import sys\n",
    "sys.path.append('..')  # Add the parent folder to the sys.path\n",
    "sys.path.append('../..')  # Add the parent of the parent folder to the sys.path"
   ]
  },
  {
   "cell_type": "code",
   "execution_count": null,
   "metadata": {},
   "outputs": [],
   "source": [
    "from pathlib import Path\n",
    "from neuralhydrology.nh_run import start_run"
   ]
  },
  {
   "cell_type": "code",
   "execution_count": null,
   "metadata": {},
   "outputs": [],
   "source": [
    "start_run(config_file=Path(\"grey.yml\", gpu=-1))"
   ]
  },
  {
   "cell_type": "code",
   "execution_count": null,
   "metadata": {},
   "outputs": [],
   "source": [
    "run_dir = \"../../runs/dev/run_size_1\"\n",
    "#eval_run(run_dir=run_dir, period=\"test\")\n",
    "\n",
    "import pickle\n",
    "import matplotlib.pyplot as plt\n",
    "\n",
    "qsim = []\n",
    "for i in range(10,51,10):\n",
    "    with open(run_dir + \"/validation/model_epoch0\"+str(i)+\"/validation_results.p\", \"rb\") as fp:\n",
    "        results = pickle.load(fp)\n",
    "        qsim.append(results['01510000']['1D']['xr']['QObs(mm/d)_sim'])\n",
    "        if i == 10:\n",
    "            qobs = results['01510000']['1D']['xr']['QObs(mm/d)_obs']\n",
    "\n",
    "plt.plot(qobs, label='observed')\n",
    "for i in range(1,6,2):\n",
    "    plt.plot(qsim[i-1],label=\"epoch \"+str(i*10), alpha = 0.15*i)\n",
    "plt.legend()\n",
    "plt.show()"
   ]
  },
  {
   "cell_type": "code",
   "execution_count": null,
   "metadata": {},
   "outputs": [],
   "source": [
    "from neuralhydrology.evaluation import metrics\n",
    "\n",
    "models = {}\n",
    "for j in [1,4,10]:\n",
    "    metric_values = []\n",
    "    run_dir = \"../../runs/dev/run_size_\"+str(j)\n",
    "    qsim = []\n",
    "    for i in range(10,51,10):\n",
    "        with open(run_dir + \"/validation/model_epoch0\"+str(i)+\"/validation_results.p\", \"rb\") as fp:\n",
    "            results = pickle.load(fp)\n",
    "            qsim.append(results['01510000']['1D']['xr']['QObs(mm/d)_sim'])\n",
    "\n",
    "    for i in range(1,6):\n",
    "        metric_values.append(metrics.calculate_all_metrics(qobs.isel(time_step=-1),\n",
    "                                                        qsim[i-1].isel(time_step=-1)))\n",
    "    \n",
    "    models[j] = metric_values\n",
    "\n",
    "fig, axs = plt.subplots(3, 1+len(metric_values[0])//3, sharex=True)\n",
    "colors = [None,'r',None,None,'g',None,None,None,None,None,'b']\n",
    "for j in [1,4,10]:\n",
    "    metric_values = models[j]\n",
    "    for ik, k in enumerate(list(metric_values[0].keys())):\n",
    "        y = [i[k] for i in metric_values]\n",
    "        axs[ik%3][ik//3].plot(list(range(10,51,10)),y,c = colors[j],label=str(j)+' routing reservoirs')\n",
    "        if j == 10:\n",
    "            axs[ik%3][ik//3].set_title(k)\n",
    "            axs[ik%3][ik//3].legend()\n",
    "plt.show()"
   ]
  }
 ],
 "metadata": {
  "kernelspec": {
   "display_name": "Python 3",
   "language": "python",
   "name": "python3"
  },
  "language_info": {
   "codemirror_mode": {
    "name": "ipython",
    "version": 3
   },
   "file_extension": ".py",
   "mimetype": "text/x-python",
   "name": "python",
   "nbconvert_exporter": "python",
   "pygments_lexer": "ipython3",
   "version": "3.11.7"
  }
 },
 "nbformat": 4,
 "nbformat_minor": 2
}
